{
 "cells": [
  {
   "cell_type": "markdown",
   "metadata": {},
   "source": [
    "#### Importing libraries and dataset"
   ]
  },
  {
   "cell_type": "code",
   "execution_count": 1,
   "metadata": {
    "ExecuteTime": {
     "end_time": "2020-10-02T09:51:28.543311Z",
     "start_time": "2020-10-02T09:51:25.081929Z"
    }
   },
   "outputs": [],
   "source": [
    "import numpy as np\n",
    "import pandas as pd\n",
    "import seaborn as sns\n",
    "import xgboost\n",
    "from xgboost.sklearn import XGBClassifier\n",
    "from sklearn.ensemble import RandomForestClassifier, GradientBoostingClassifier\n",
    "from sklearn.tree import DecisionTreeClassifier"
   ]
  },
  {
   "cell_type": "code",
   "execution_count": 2,
   "metadata": {
    "ExecuteTime": {
     "end_time": "2020-10-02T09:51:28.567178Z",
     "start_time": "2020-10-02T09:51:28.545237Z"
    }
   },
   "outputs": [],
   "source": [
    "train_df= pd.read_csv('Train.csv')\n",
    "test_df= pd.read_csv('Test.csv')"
   ]
  },
  {
   "cell_type": "code",
   "execution_count": 3,
   "metadata": {
    "ExecuteTime": {
     "end_time": "2020-10-02T09:51:29.046958Z",
     "start_time": "2020-10-02T09:51:28.842620Z"
    }
   },
   "outputs": [
    {
     "data": {
      "text/plain": [
       "<matplotlib.axes._subplots.AxesSubplot at 0x233475b5f98>"
      ]
     },
     "execution_count": 3,
     "metadata": {},
     "output_type": "execute_result"
    },
    {
     "data": {
      "image/png": "[encoded data removed]",
      "text/plain": [
       "<Figure size 432x288 with 1 Axes>"
      ]
     },
     "metadata": {
      "needs_background": "light"
     },
     "output_type": "display_data"
    }
   ],
   "source": [
    "sns.countplot(train_df['IsUnderRisk'])"
   ]
  },
  {
   "cell_type": "code",
   "execution_count": 4,
   "metadata": {
    "ExecuteTime": {
     "end_time": "2020-10-02T09:51:31.314495Z",
     "start_time": "2020-10-02T09:51:31.287567Z"
    }
   },
   "outputs": [
    {
     "data": {
      "text/html": [
       "<div>\n",
       "<style scoped>\n",
       "    .dataframe tbody tr th:only-of-type {\n",
       "        vertical-align: middle;\n",
       "    }\n",
       "\n",
       "    .dataframe tbody tr th {\n",
       "        vertical-align: top;\n",
       "    }\n",
       "\n",
       "    .dataframe thead th {\n",
       "        text-align: right;\n",
       "    }\n",
       "</style>\n",
       "<table border=\"1\" class=\"dataframe\">\n",
       "  <thead>\n",
       "    <tr style=\"text-align: right;\">\n",
       "      <th></th>\n",
       "      <th>City</th>\n",
       "      <th>Location_Score</th>\n",
       "      <th>Internal_Audit_Score</th>\n",
       "      <th>External_Audit_Score</th>\n",
       "      <th>Fin_Score</th>\n",
       "      <th>Loss_score</th>\n",
       "      <th>Past_Results</th>\n",
       "      <th>IsUnderRisk</th>\n",
       "    </tr>\n",
       "  </thead>\n",
       "  <tbody>\n",
       "    <tr>\n",
       "      <th>0</th>\n",
       "      <td>2</td>\n",
       "      <td>8.032</td>\n",
       "      <td>14</td>\n",
       "      <td>8</td>\n",
       "      <td>3</td>\n",
       "      <td>6</td>\n",
       "      <td>0</td>\n",
       "      <td>1</td>\n",
       "    </tr>\n",
       "    <tr>\n",
       "      <th>1</th>\n",
       "      <td>31</td>\n",
       "      <td>77.730</td>\n",
       "      <td>8</td>\n",
       "      <td>3</td>\n",
       "      <td>3</td>\n",
       "      <td>8</td>\n",
       "      <td>1</td>\n",
       "      <td>0</td>\n",
       "    </tr>\n",
       "    <tr>\n",
       "      <th>2</th>\n",
       "      <td>40</td>\n",
       "      <td>59.203</td>\n",
       "      <td>3</td>\n",
       "      <td>12</td>\n",
       "      <td>11</td>\n",
       "      <td>3</td>\n",
       "      <td>0</td>\n",
       "      <td>1</td>\n",
       "    </tr>\n",
       "    <tr>\n",
       "      <th>3</th>\n",
       "      <td>12</td>\n",
       "      <td>73.080</td>\n",
       "      <td>4</td>\n",
       "      <td>5</td>\n",
       "      <td>7</td>\n",
       "      <td>6</td>\n",
       "      <td>0</td>\n",
       "      <td>0</td>\n",
       "    </tr>\n",
       "    <tr>\n",
       "      <th>4</th>\n",
       "      <td>4</td>\n",
       "      <td>15.666</td>\n",
       "      <td>13</td>\n",
       "      <td>15</td>\n",
       "      <td>6</td>\n",
       "      <td>7</td>\n",
       "      <td>2</td>\n",
       "      <td>1</td>\n",
       "    </tr>\n",
       "  </tbody>\n",
       "</table>\n",
       "</div>"
      ],
      "text/plain": [
       "   City  Location_Score  Internal_Audit_Score  External_Audit_Score  \\\n",
       "0     2           8.032                    14                     8   \n",
       "1    31          77.730                     8                     3   \n",
       "2    40          59.203                     3                    12   \n",
       "3    12          73.080                     4                     5   \n",
       "4     4          15.666                    13                    15   \n",
       "\n",
       "   Fin_Score  Loss_score  Past_Results  IsUnderRisk  \n",
       "0          3           6             0            1  \n",
       "1          3           8             1            0  \n",
       "2         11           3             0            1  \n",
       "3          7           6             0            0  \n",
       "4          6           7             2            1  "
      ]
     },
     "execution_count": 4,
     "metadata": {},
     "output_type": "execute_result"
    }
   ],
   "source": [
    "train_df.head()"
   ]
  },
  {
   "cell_type": "code",
   "execution_count": 5,
   "metadata": {
    "ExecuteTime": {
     "end_time": "2020-10-02T09:51:32.963850Z",
     "start_time": "2020-10-02T09:51:32.956899Z"
    }
   },
   "outputs": [],
   "source": [
    "target = train_df['IsUnderRisk']\n",
    "train_df.drop(columns= ['IsUnderRisk'], axis= 1, inplace= True)"
   ]
  },
  {
   "cell_type": "code",
   "execution_count": null,
   "metadata": {
    "ExecuteTime": {
     "end_time": "2020-09-21T15:26:59.329725Z",
     "start_time": "2020-09-21T15:26:15.155840Z"
    }
   },
   "outputs": [],
   "source": [
    "import pandas_profiling\n",
    "# pandas_profiling.ProfileReport(train_df)"
   ]
  },
  {
   "cell_type": "code",
   "execution_count": 13,
   "metadata": {
    "ExecuteTime": {
     "end_time": "2020-10-02T09:57:42.183266Z",
     "start_time": "2020-10-02T09:57:42.130361Z"
    }
   },
   "outputs": [],
   "source": [
    "from sklearn.model_selection import train_test_split\n",
    "x_train, x_test, y_train, y_test = train_test_split(train_df,target, test_size= 0.3)"
   ]
  },
  {
   "cell_type": "code",
   "execution_count": 14,
   "metadata": {
    "ExecuteTime": {
     "end_time": "2020-10-02T09:57:44.555305Z",
     "start_time": "2020-10-02T09:57:43.191475Z"
    }
   },
   "outputs": [
    {
     "name": "stdout",
     "output_type": "stream",
     "text": [
      "0.8098159509202454\n",
      "6.568793022124257\n",
      "0.8472906403940887\n",
      "Feature: 0, Score: 0.09786\n",
      "Feature: 1, Score: 0.20917\n",
      "Feature: 2, Score: 0.30448\n",
      "Feature: 3, Score: 0.17875\n",
      "Feature: 4, Score: 0.12752\n",
      "Feature: 5, Score: 0.06141\n",
      "Feature: 6, Score: 0.02082\n"
     ]
    },
    {
     "data": {
      "image/png": "[encoded data removed]",
      "text/plain": [
       "<Figure size 432x288 with 1 Axes>"
      ]
     },
     "metadata": {
      "needs_background": "light"
     },
     "output_type": "display_data"
    }
   ],
   "source": [
    "from sklearn.ensemble import RandomForestClassifier\n",
    "from sklearn.metrics import log_loss\n",
    "from sklearn.metrics import f1_score\n",
    "\n",
    "rfc = RandomForestClassifier(n_estimators=500)\n",
    "rfc.fit(x_train, y_train)\n",
    "\n",
    "print(rfc.score(x_test, y_test))\n",
    "print(log_loss(y_test, rfc.predict(x_test)))\n",
    "print(f1_score(y_test, rfc.predict(x_test)))\n",
    "\n",
    "    \n",
    "importance = rfc.feature_importances_\n",
    "\n",
    "for i,v in enumerate(importance):\n",
    "\tprint('Feature: %0d, Score: %.5f' % (i,v))\n",
    "\n",
    "\n",
    "import matplotlib.pyplot as plt\n",
    "\n",
    "plt.bar(train_df.columns, importance)\n",
    "plt.xticks(rotation = 90)\n",
    "plt.show()"
   ]
  },
  {
   "cell_type": "code",
   "execution_count": 15,
   "metadata": {
    "ExecuteTime": {
     "end_time": "2020-10-02T09:57:46.346483Z",
     "start_time": "2020-10-02T09:57:45.693523Z"
    }
   },
   "outputs": [
    {
     "name": "stdout",
     "output_type": "stream",
     "text": [
      "0.8404907975460123\n",
      "5.509311542557302\n",
      "0.8725490196078431\n",
      "Feature: 0, Score: 0.06902\n",
      "Feature: 1, Score: 0.07159\n",
      "Feature: 2, Score: 0.50448\n",
      "Feature: 3, Score: 0.11925\n",
      "Feature: 4, Score: 0.13537\n",
      "Feature: 5, Score: 0.04614\n",
      "Feature: 6, Score: 0.05415\n"
     ]
    },
    {
     "data": {
      "image/png": "[encoded data removed]",
      "text/plain": [
       "<Figure size 432x288 with 1 Axes>"
      ]
     },
     "metadata": {
      "needs_background": "light"
     },
     "output_type": "display_data"
    }
   ],
   "source": [
    "xgb = XGBClassifier()\n",
    "xgb.fit(x_train, y_train)\n",
    "\n",
    "print(xgb.score(x_test, y_test))\n",
    "print(log_loss(y_test, xgb.predict(x_test)))\n",
    "print(f1_score(y_test, xgb.predict(x_test)))\n",
    "\n",
    "    \n",
    "importance2 = xgb.feature_importances_\n",
    "\n",
    "for i,v in enumerate(importance2):\n",
    "\tprint('Feature: %0d, Score: %.5f' % (i,v))\n",
    "\n",
    "\n",
    "import matplotlib.pyplot as plt\n",
    "\n",
    "plt.bar(train_df.columns, importance2)\n",
    "plt.xticks(rotation = 90)\n",
    "plt.show()"
   ]
  },
  {
   "cell_type": "code",
   "execution_count": 16,
   "metadata": {
    "ExecuteTime": {
     "end_time": "2020-10-02T09:57:47.462398Z",
     "start_time": "2020-10-02T09:57:47.454451Z"
    }
   },
   "outputs": [
    {
     "data": {
      "text/plain": [
       "Index(['City', 'Location_Score', 'Internal_Audit_Score',\n",
       "       'External_Audit_Score', 'Fin_Score', 'Loss_score', 'Past_Results'],\n",
       "      dtype='object')"
      ]
     },
     "execution_count": 16,
     "metadata": {},
     "output_type": "execute_result"
    }
   ],
   "source": [
    "train_df.columns"
   ]
  },
  {
   "cell_type": "code",
   "execution_count": 17,
   "metadata": {
    "ExecuteTime": {
     "end_time": "2020-10-02T09:57:49.251468Z",
     "start_time": "2020-10-02T09:57:49.175297Z"
    }
   },
   "outputs": [
    {
     "name": "stdout",
     "output_type": "stream",
     "text": [
      "logloss 0.31255066094411527\n"
     ]
    }
   ],
   "source": [
    "model = XGBClassifier()\n",
    "model.fit(x_train, y_train)\n",
    "y_pred= model.predict_proba(x_test)\n",
    "score= log_loss(y_test, y_pred)\n",
    "print('logloss', score)"
   ]
  },
  {
   "cell_type": "code",
   "execution_count": 18,
   "metadata": {
    "ExecuteTime": {
     "end_time": "2020-10-02T09:58:10.681458Z",
     "start_time": "2020-10-02T09:57:51.662762Z"
    }
   },
   "outputs": [
    {
     "name": "stderr",
     "output_type": "stream",
     "text": [
      "C:\\Users\\JYOTI\\Anaconda3\\lib\\site-packages\\sklearn\\model_selection\\_split.py:2053: FutureWarning: You should specify a value for 'cv' instead of relying on the default value. The default value will change from 3 to 5 in version 0.22.\n",
      "  warnings.warn(CV_WARNING, FutureWarning)\n"
     ]
    },
    {
     "name": "stdout",
     "output_type": "stream",
     "text": [
      "Best Score:-0.28774842810019524\n",
      "Best Parameters: {'learning_rate': 0.1, 'max_depth': 3, 'n_estimators': 60}\n"
     ]
    },
    {
     "name": "stderr",
     "output_type": "stream",
     "text": [
      "C:\\Users\\JYOTI\\Anaconda3\\lib\\site-packages\\sklearn\\model_selection\\_search.py:841: DeprecationWarning: The default of the `iid` parameter will change from True to False in version 0.22 and will be removed in 0.24. This will change numeric results when test-set sizes are unequal.\n",
      "  DeprecationWarning)\n"
     ]
    }
   ],
   "source": [
    "from sklearn.model_selection import GridSearchCV\n",
    "model = XGBClassifier(random_state = 0)\n",
    "n_estimators = range(50, 150, 10)\n",
    "param_grid = {'learning_rate' : [0.1,0.2,0.01], 'n_estimators': n_estimators,'max_depth' : [3,4,5,6]}\n",
    "\n",
    "grid_search = GridSearchCV(estimator = model, param_grid = param_grid , scoring = 'neg_log_loss')\n",
    "\n",
    "grid_search.fit(train_df,target)\n",
    "\n",
    "print(\"Best Score:\" + str(grid_search.best_score_))\n",
    "print(\"Best Parameters: \" + str(grid_search.best_params_))\n",
    "best_parameters = grid_search.best_params_\n"
   ]
  },
  {
   "cell_type": "code",
   "execution_count": 19,
   "metadata": {
    "ExecuteTime": {
     "end_time": "2020-10-02T10:00:27.805332Z",
     "start_time": "2020-10-02T10:00:27.751446Z"
    }
   },
   "outputs": [
    {
     "name": "stdout",
     "output_type": "stream",
     "text": [
      "logloss 0.28694258037486053\n"
     ]
    }
   ],
   "source": [
    "model = XGBClassifier(**best_parameters)\n",
    "model.fit(x_train, y_train)\n",
    "y_pred= model.predict_proba(x_test)\n",
    "score= log_loss(y_test, y_pred)\n",
    "print('logloss', score)"
   ]
  },
  {
   "cell_type": "code",
   "execution_count": 20,
   "metadata": {
    "ExecuteTime": {
     "end_time": "2020-10-02T10:02:06.731684Z",
     "start_time": "2020-10-02T10:02:06.727693Z"
    }
   },
   "outputs": [],
   "source": [
    "xgb = XGBClassifier()\n",
    "rf = RandomForestClassifier()\n",
    "gb= GradientBoostingClassifier()"
   ]
  },
  {
   "cell_type": "code",
   "execution_count": 21,
   "metadata": {
    "ExecuteTime": {
     "end_time": "2020-10-02T10:02:08.172109Z",
     "start_time": "2020-10-02T10:02:07.910949Z"
    }
   },
   "outputs": [],
   "source": [
    "from sklearn.metrics import *\n",
    "from vecstack import stacking"
   ]
  },
  {
   "cell_type": "code",
   "execution_count": 22,
   "metadata": {
    "ExecuteTime": {
     "end_time": "2020-10-02T10:02:09.622247Z",
     "start_time": "2020-10-02T10:02:09.610280Z"
    }
   },
   "outputs": [],
   "source": [
    "models = [\n",
    "    DecisionTreeClassifier(criterion='entropy',splitter='best',max_depth=3,min_samples_split=2,max_features=None),\n",
    "    \n",
    "    GradientBoostingClassifier(),\n",
    "        \n",
    "    RandomForestClassifier(random_state=0, n_jobs=-1, \n",
    "                           n_estimators=100, max_depth=3),\n",
    "        \n",
    "    XGBClassifier(random_state=0, n_jobs=-1, learning_rate=0.1, \n",
    "                  n_estimators=100, max_depth=3) ,\n",
    "    XGBClassifier(random_state=0, n_jobs=-1, learning_rate=0.1, \n",
    "                  n_estimators=60, max_depth=3) ,\n",
    "    XGBClassifier(random_state=0, n_jobs=-1, learning_rate=0.1, \n",
    "                  n_estimators=90, max_depth=3)]"
   ]
  },
  {
   "cell_type": "code",
   "execution_count": 23,
   "metadata": {
    "ExecuteTime": {
     "end_time": "2020-10-02T10:02:13.504947Z",
     "start_time": "2020-10-02T10:02:11.077582Z"
    }
   },
   "outputs": [
    {
     "name": "stdout",
     "output_type": "stream",
     "text": [
      "task:         [classification]\n",
      "n_classes:    [2]\n",
      "metric:       [log_loss]\n",
      "mode:         [oof_pred_bag]\n",
      "n_models:     [6]\n",
      "\n",
      "model  0:     [DecisionTreeClassifier]\n",
      "    fold  0:  [5.98309512]\n",
      "    fold  1:  [5.98314549]\n",
      "    fold  2:  [5.48234546]\n",
      "    ----\n",
      "    MEAN:     [5.81619536] + [0.23606753]\n",
      "    FULL:     [5.81707391]\n",
      "\n",
      "model  1:     [GradientBoostingClassifier]\n",
      "    fold  0:  [4.35139228]\n",
      "    fold  1:  [4.62335744]\n",
      "    fold  2:  [4.66003806]\n",
      "    ----\n",
      "    MEAN:     [4.54492926] + [0.13766818]\n",
      "    FULL:     [4.54462634]\n",
      "\n",
      "model  2:     [RandomForestClassifier]\n",
      "    fold  0:  [6.25514214]\n",
      "    fold  1:  [5.98314549]\n",
      "    fold  2:  [4.38591444]\n",
      "    ----\n",
      "    MEAN:     [5.54140069] + [0.82456328]\n",
      "    FULL:     [5.54444144]\n",
      "\n",
      "model  3:     [XGBClassifier]\n",
      "    fold  0:  [4.89531631]\n",
      "    fold  1:  [5.43923405]\n",
      "    fold  2:  [4.66003172]\n",
      "    ----\n",
      "    MEAN:     [4.99819403] + [0.32631982]\n",
      "    FULL:     [4.99908393]\n",
      "\n",
      "model  4:     [XGBClassifier]\n",
      "    fold  0:  [5.43923405]\n",
      "    fold  1:  [5.43922146]\n",
      "    fold  2:  [4.11178448]\n",
      "    ----\n",
      "    MEAN:     [4.99674666] + [0.62576276]\n",
      "    FULL:     [4.99907551]\n",
      "\n",
      "model  5:     [XGBClassifier]\n",
      "    fold  0:  [5.16727518]\n",
      "    fold  1:  [5.71119292]\n",
      "    fold  2:  [4.66003172]\n",
      "    ----\n",
      "    MEAN:     [5.17949994] + [0.42922182]\n",
      "    FULL:     [5.18086696]\n",
      "\n"
     ]
    }
   ],
   "source": [
    "S_train, S_test = stacking(models, x_train, y_train,x_test, regression=False, mode='oof_pred_bag', \n",
    "                           needs_proba=False, metric=log_loss, n_folds=3, stratified=True, shuffle=True,\n",
    "                           random_state=0, verbose=2)"
   ]
  },
  {
   "cell_type": "code",
   "execution_count": 24,
   "metadata": {
    "ExecuteTime": {
     "end_time": "2020-10-02T10:02:13.607676Z",
     "start_time": "2020-10-02T10:02:13.507913Z"
    }
   },
   "outputs": [
    {
     "name": "stdout",
     "output_type": "stream",
     "text": [
      "logloss 0.34668020566781715\n"
     ]
    }
   ],
   "source": [
    "model = GradientBoostingClassifier()\n",
    "    \n",
    "model = model.fit(S_train, y_train)\n",
    "pred_test = model.predict_proba(S_test)\n",
    "score = log_loss(y_test,pred_test)\n",
    "print('logloss',score)"
   ]
  },
  {
   "cell_type": "code",
   "execution_count": 25,
   "metadata": {
    "ExecuteTime": {
     "end_time": "2020-10-02T10:02:14.764753Z",
     "start_time": "2020-10-02T10:02:14.731814Z"
    }
   },
   "outputs": [
    {
     "name": "stdout",
     "output_type": "stream",
     "text": [
      "logloss 0.32402388586954106\n"
     ]
    }
   ],
   "source": [
    "model = XGBClassifier(**best_parameters)\n",
    "# model =xgb\n",
    "model = model.fit(S_train, y_train)\n",
    "pred_test = model.predict_proba(S_test)\n",
    "score = log_loss(y_test,pred_test)\n",
    "print('logloss',score)"
   ]
  },
  {
   "cell_type": "code",
   "execution_count": 26,
   "metadata": {
    "ExecuteTime": {
     "end_time": "2020-10-02T10:02:25.248708Z",
     "start_time": "2020-10-02T10:02:23.197946Z"
    }
   },
   "outputs": [
    {
     "name": "stdout",
     "output_type": "stream",
     "text": [
      "task:         [classification]\n",
      "n_classes:    [2]\n",
      "metric:       [log_loss]\n",
      "mode:         [oof_pred_bag]\n",
      "n_models:     [6]\n",
      "\n",
      "model  0:     [DecisionTreeClassifier]\n",
      "    fold  0:  [0.38785844]\n",
      "    fold  1:  [0.31348614]\n",
      "    fold  2:  [0.30044476]\n",
      "    ----\n",
      "    MEAN:     [0.33392978] + [0.03850320]\n",
      "    FULL:     [0.33409076]\n",
      "\n",
      "model  1:     [GradientBoostingClassifier]\n",
      "    fold  0:  [0.31543114]\n",
      "    fold  1:  [0.30834802]\n",
      "    fold  2:  [0.29581583]\n",
      "    ----\n",
      "    MEAN:     [0.30653166] + [0.00811026]\n",
      "    FULL:     [0.30656779]\n",
      "\n",
      "model  2:     [RandomForestClassifier]\n",
      "    fold  0:  [0.38858020]\n",
      "    fold  1:  [0.34379787]\n",
      "    fold  2:  [0.33988935]\n",
      "    ----\n",
      "    MEAN:     [0.35742247] + [0.02208955]\n",
      "    FULL:     [0.35751214]\n",
      "\n",
      "model  3:     [XGBClassifier]\n",
      "    fold  0:  [0.31177380]\n",
      "    fold  1:  [0.27952271]\n",
      "    fold  2:  [0.27939081]\n",
      "    ----\n",
      "    MEAN:     [0.29022911] + [0.01523450]\n",
      "    FULL:     [0.29028874]\n",
      "\n",
      "model  4:     [XGBClassifier]\n",
      "    fold  0:  [0.32072863]\n",
      "    fold  1:  [0.28061103]\n",
      "    fold  2:  [0.26504474]\n",
      "    ----\n",
      "    MEAN:     [0.28879480] + [0.02345783]\n",
      "    FULL:     [0.28889735]\n",
      "\n",
      "model  5:     [XGBClassifier]\n",
      "    fold  0:  [0.31208134]\n",
      "    fold  1:  [0.28158644]\n",
      "    fold  2:  [0.27382308]\n",
      "    ----\n",
      "    MEAN:     [0.28916362] + [0.01651230]\n",
      "    FULL:     [0.28923408]\n",
      "\n"
     ]
    }
   ],
   "source": [
    "S_train, S_test = stacking(models, train_df, target,test_df, regression=False, mode='oof_pred_bag', \n",
    "                           needs_proba=True, metric=log_loss, n_folds=3, stratified=True, shuffle=True, \n",
    "                           random_state=0, verbose=2)"
   ]
  },
  {
   "cell_type": "code",
   "execution_count": 27,
   "metadata": {
    "ExecuteTime": {
     "end_time": "2020-10-02T10:02:26.467234Z",
     "start_time": "2020-10-02T10:02:25.350800Z"
    }
   },
   "outputs": [
    {
     "data": {
      "text/html": [
       "<div>\n",
       "<style scoped>\n",
       "    .dataframe tbody tr th:only-of-type {\n",
       "        vertical-align: middle;\n",
       "    }\n",
       "\n",
       "    .dataframe tbody tr th {\n",
       "        vertical-align: top;\n",
       "    }\n",
       "\n",
       "    .dataframe thead th {\n",
       "        text-align: right;\n",
       "    }\n",
       "</style>\n",
       "<table border=\"1\" class=\"dataframe\">\n",
       "  <thead>\n",
       "    <tr style=\"text-align: right;\">\n",
       "      <th></th>\n",
       "      <th>0</th>\n",
       "      <th>1</th>\n",
       "    </tr>\n",
       "  </thead>\n",
       "  <tbody>\n",
       "    <tr>\n",
       "      <th>0</th>\n",
       "      <td>0.002973</td>\n",
       "      <td>0.997027</td>\n",
       "    </tr>\n",
       "    <tr>\n",
       "      <th>1</th>\n",
       "      <td>0.002973</td>\n",
       "      <td>0.997027</td>\n",
       "    </tr>\n",
       "    <tr>\n",
       "      <th>2</th>\n",
       "      <td>0.898768</td>\n",
       "      <td>0.101232</td>\n",
       "    </tr>\n",
       "    <tr>\n",
       "      <th>3</th>\n",
       "      <td>0.002973</td>\n",
       "      <td>0.997027</td>\n",
       "    </tr>\n",
       "    <tr>\n",
       "      <th>4</th>\n",
       "      <td>0.013285</td>\n",
       "      <td>0.986715</td>\n",
       "    </tr>\n",
       "  </tbody>\n",
       "</table>\n",
       "</div>"
      ],
      "text/plain": [
       "          0         1\n",
       "0  0.002973  0.997027\n",
       "1  0.002973  0.997027\n",
       "2  0.898768  0.101232\n",
       "3  0.002973  0.997027\n",
       "4  0.013285  0.986715"
      ]
     },
     "execution_count": 27,
     "metadata": {},
     "output_type": "execute_result"
    }
   ],
   "source": [
    "model = XGBClassifier(**best_parameters)\n",
    "    \n",
    "model = model.fit(S_train, target)\n",
    "pred_test = model.predict_proba(S_test)\n",
    "output = pd.DataFrame({'0': pred_test[:,0],'1': pred_test[:,1]})\n",
    "output.to_excel('Financialriskpredsubmission.xlsx',sheet_name= 'Sheet1', index=False)\n",
    "output.head()"
   ]
  }
 ],
 "metadata": {
  "kernelspec": {
   "display_name": "Python 3",
   "language": "python",
   "name": "python3"
  },
  "language_info": {
   "codemirror_mode": {
    "name": "ipython",
    "version": 3
   },
   "file_extension": ".py",
   "mimetype": "text/x-python",
   "name": "python",
   "nbconvert_exporter": "python",
   "pygments_lexer": "ipython3",
   "version": "3.7.3"
  }
 },
 "nbformat": 4,
 "nbformat_minor": 2
}
